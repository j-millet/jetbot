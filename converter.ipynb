{
 "cells": [
  {
   "cell_type": "code",
   "execution_count": 80,
   "id": "ac9b9d75",
   "metadata": {},
   "outputs": [],
   "source": [
    "import onnx\n",
    "from onnx import version_converter"
   ]
  },
  {
   "cell_type": "code",
   "execution_count": 81,
   "id": "e2b6c16e",
   "metadata": {},
   "outputs": [],
   "source": [
    "model = onnx.load('test.onnx')"
   ]
  },
  {
   "cell_type": "code",
   "execution_count": 82,
   "id": "7cf04436",
   "metadata": {},
   "outputs": [],
   "source": [
    "for node in model.graph.node:\n",
    "    if node.op_type == \"Reshape\":\n",
    "        # Remove the 'allowzero' attribute in-place\n",
    "        indices_to_remove = [i for i, attr in enumerate(node.attribute) if attr.name == \"allowzero\"]\n",
    "        for index in reversed(indices_to_remove):  # reverse so we delete from the end\n",
    "            del node.attribute[index]"
   ]
  },
  {
   "cell_type": "code",
   "execution_count": 83,
   "id": "92b2282b",
   "metadata": {},
   "outputs": [],
   "source": [
    "opset = model.opset_import[0].version"
   ]
  },
  {
   "cell_type": "code",
   "execution_count": 84,
   "id": "cc6fb31a",
   "metadata": {},
   "outputs": [
    {
     "data": {
      "text/plain": [
       "11"
      ]
     },
     "execution_count": 84,
     "metadata": {},
     "output_type": "execute_result"
    }
   ],
   "source": [
    "opset"
   ]
  },
  {
   "cell_type": "code",
   "execution_count": 85,
   "id": "08402d8d",
   "metadata": {},
   "outputs": [],
   "source": [
    "converted = version_converter.convert_version(model,11)\n",
    "onnx.save(converted,'test.onnx')"
   ]
  }
 ],
 "metadata": {
  "kernelspec": {
   "display_name": ".venv",
   "language": "python",
   "name": "python3"
  },
  "language_info": {
   "codemirror_mode": {
    "name": "ipython",
    "version": 3
   },
   "file_extension": ".py",
   "mimetype": "text/x-python",
   "name": "python",
   "nbconvert_exporter": "python",
   "pygments_lexer": "ipython3",
   "version": "3.11.11"
  }
 },
 "nbformat": 4,
 "nbformat_minor": 5
}
