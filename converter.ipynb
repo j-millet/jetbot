{
 "cells": [
  {
   "cell_type": "code",
   "execution_count": 55,
   "id": "ac9b9d75",
   "metadata": {},
   "outputs": [],
   "source": [
    "import onnx\n",
    "from onnx import version_converter"
   ]
  },
  {
   "cell_type": "code",
   "execution_count": 56,
   "id": "e2b6c16e",
   "metadata": {},
   "outputs": [],
   "source": [
    "model = onnx.load('test.onnx')"
   ]
  },
  {
   "cell_type": "code",
   "execution_count": 57,
   "id": "7cf04436",
   "metadata": {},
   "outputs": [],
   "source": [
    "for node in model.graph.node:\n",
    "    if node.op_type == \"Reshape\":\n",
    "        # Remove the 'allowzero' attribute in-place\n",
    "        indices_to_remove = [i for i, attr in enumerate(node.attribute) if attr.name == \"allowzero\"]\n",
    "        for index in reversed(indices_to_remove):  # reverse so we delete from the end\n",
    "            del node.attribute[index]"
   ]
  },
  {
   "cell_type": "code",
   "execution_count": 58,
   "id": "92b2282b",
   "metadata": {},
   "outputs": [],
   "source": [
    "opset = model.opset_import[0].version"
   ]
  },
  {
   "cell_type": "code",
   "execution_count": 59,
   "id": "cc6fb31a",
   "metadata": {},
   "outputs": [
    {
     "data": {
      "text/plain": [
       "18"
      ]
     },
     "execution_count": 59,
     "metadata": {},
     "output_type": "execute_result"
    }
   ],
   "source": [
    "opset"
   ]
  },
  {
   "cell_type": "code",
   "execution_count": null,
   "id": "08402d8d",
   "metadata": {},
   "outputs": [
    {
     "ename": "RuntimeError",
     "evalue": "/github/workspace/onnx/version_converter/BaseConverter.h:68: adapter_lookup: Assertion `false` failed: No Adapter From Version $15 for BatchNormalization",
     "output_type": "error",
     "traceback": [
      "\u001b[31m---------------------------------------------------------------------------\u001b[39m",
      "\u001b[31mRuntimeError\u001b[39m                              Traceback (most recent call last)",
      "\u001b[36mCell\u001b[39m\u001b[36m \u001b[39m\u001b[32mIn[60]\u001b[39m\u001b[32m, line 1\u001b[39m\n\u001b[32m----> \u001b[39m\u001b[32m1\u001b[39m converted = \u001b[43mversion_converter\u001b[49m\u001b[43m.\u001b[49m\u001b[43mconvert_version\u001b[49m\u001b[43m(\u001b[49m\u001b[43mmodel\u001b[49m\u001b[43m,\u001b[49m\u001b[32;43m11\u001b[39;49m\u001b[43m)\u001b[49m\n\u001b[32m      2\u001b[39m onnx.save(converted,\u001b[33m'\u001b[39m\u001b[33msaved_models/tiny_cnn.onnx\u001b[39m\u001b[33m'\u001b[39m)\n",
      "\u001b[36mFile \u001b[39m\u001b[32m~/Desktop/uni/sem6/ROB2/jetbot/.venv/lib/python3.11/site-packages/onnx/version_converter.py:39\u001b[39m, in \u001b[36mconvert_version\u001b[39m\u001b[34m(model, target_version)\u001b[39m\n\u001b[32m     35\u001b[39m     \u001b[38;5;28;01mraise\u001b[39;00m \u001b[38;5;167;01mTypeError\u001b[39;00m(\n\u001b[32m     36\u001b[39m         \u001b[33mf\u001b[39m\u001b[33m\"\u001b[39m\u001b[33mVersionConverter only accepts int as target_version, incorrect type: \u001b[39m\u001b[38;5;132;01m{\u001b[39;00m\u001b[38;5;28mtype\u001b[39m(target_version)\u001b[38;5;132;01m}\u001b[39;00m\u001b[33m\"\u001b[39m\n\u001b[32m     37\u001b[39m     )\n\u001b[32m     38\u001b[39m model_str = model.SerializeToString()\n\u001b[32m---> \u001b[39m\u001b[32m39\u001b[39m converted_model_str = \u001b[43mC\u001b[49m\u001b[43m.\u001b[49m\u001b[43mconvert_version\u001b[49m\u001b[43m(\u001b[49m\u001b[43mmodel_str\u001b[49m\u001b[43m,\u001b[49m\u001b[43m \u001b[49m\u001b[43mtarget_version\u001b[49m\u001b[43m)\u001b[49m\n\u001b[32m     40\u001b[39m \u001b[38;5;28;01mreturn\u001b[39;00m onnx.load_from_string(converted_model_str)\n",
      "\u001b[31mRuntimeError\u001b[39m: /github/workspace/onnx/version_converter/BaseConverter.h:68: adapter_lookup: Assertion `false` failed: No Adapter From Version $15 for BatchNormalization"
     ]
    }
   ],
   "source": [
    "converted = version_converter.convert_version(model,11)\n",
    "onnx.save(converted,'test.onnx')"
   ]
  }
 ],
 "metadata": {
  "kernelspec": {
   "display_name": ".venv",
   "language": "python",
   "name": "python3"
  },
  "language_info": {
   "codemirror_mode": {
    "name": "ipython",
    "version": 3
   },
   "file_extension": ".py",
   "mimetype": "text/x-python",
   "name": "python",
   "nbconvert_exporter": "python",
   "pygments_lexer": "ipython3",
   "version": "3.11.11"
  }
 },
 "nbformat": 4,
 "nbformat_minor": 5
}
